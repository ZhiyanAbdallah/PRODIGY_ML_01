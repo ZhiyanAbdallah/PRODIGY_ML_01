{
  "cells": [
    {
      "cell_type": "markdown",
      "metadata": {
        "id": "view-in-github",
        "colab_type": "text"
      },
      "source": [
        "<a href=\"https://colab.research.google.com/github/ZhiyanAbdallah/PRODIGY_ML_01/blob/main/linear_regression_prediction_for_house_price.ipynb\" target=\"_parent\"><img src=\"https://colab.research.google.com/assets/colab-badge.svg\" alt=\"Open In Colab\"/></a>"
      ]
    },
    {
      "cell_type": "code",
      "execution_count": null,
      "metadata": {
        "colab": {
          "base_uri": "https://localhost:8080/",
          "height": 676
        },
        "id": "HrXg6D_nmdQi",
        "outputId": "1c66aea8-cf2f-4797-a4dd-c83502bf4a4d"
      },
      "outputs": [
        {
          "output_type": "stream",
          "name": "stdout",
          "text": [
            "Epoch [10/100], Loss: 39039242240.0000\n",
            "Epoch [20/100], Loss: 39039127552.0000\n",
            "Epoch [30/100], Loss: 39038959616.0000\n",
            "Epoch [40/100], Loss: 39038726144.0000\n",
            "Epoch [50/100], Loss: 39038390272.0000\n",
            "Epoch [60/100], Loss: 39037911040.0000\n",
            "Epoch [70/100], Loss: 39037239296.0000\n",
            "Epoch [80/100], Loss: 39036313600.0000\n",
            "Epoch [90/100], Loss: 39035072512.0000\n",
            "Epoch [100/100], Loss: 39033466880.0000\n"
          ]
        },
        {
          "output_type": "display_data",
          "data": {
            "text/plain": [
              "<Figure size 640x480 with 1 Axes>"
            ],
            "image/png": "[encoded data removed]"
          },
          "metadata": {}
        }
      ],
      "source": [
        "import pandas as pd\n",
        "import torch\n",
        "import torch.nn as nn\n",
        "import torch.optim as optim\n",
        "from sklearn.preprocessing import StandardScaler\n",
        "from sklearn.metrics import mean_squared_error\n",
        "import matplotlib.pyplot as plt\n",
        "\n",
        "# Load train and test data directly\n",
        "train_data_path = '/content/drive/My Drive/train.csv'  # Update this path as needed\n",
        "test_data_path = '/content/drive/MyDrive/test.csv'    # Update this path as needed\n",
        "\n",
        "# Load the train and test datasets\n",
        "try:\n",
        "    train_data = pd.read_csv(train_data_path)\n",
        "    test_data = pd.read_csv(test_data_path)\n",
        "except FileNotFoundError:\n",
        "    print(\"Error: Dataset not found. Please check the file paths and try again.\")\n",
        "    exit()\n",
        "\n",
        "# Fill missing values in numeric columns with the mean value\n",
        "numeric_cols = train_data.select_dtypes(include=['number']).columns\n",
        "train_data[numeric_cols] = train_data[numeric_cols].fillna(train_data[numeric_cols].mean())\n",
        "\n",
        "# Select features based on the dataset\n",
        "features = ['OverallQual', 'GrLivArea', 'GarageCars', 'GarageArea', 'TotalBsmtSF', 'BsmtUnfSF', 'BedroomAbvGr', 'FullBath', '1stFlrSF']\n",
        "X_train = train_data[features]\n",
        "y_train = train_data['SalePrice']\n",
        "X_test = test_data[features]\n",
        "\n",
        "# Standardize the data\n",
        "scaler = StandardScaler()\n",
        "X_train = scaler.fit_transform(X_train)\n",
        "X_test = scaler.transform(X_test)\n",
        "\n",
        "# Convert data to PyTorch tensors\n",
        "X_train_tensor = torch.tensor(X_train, dtype=torch.float32)\n",
        "y_train_tensor = torch.tensor(y_train.values, dtype=torch.float32).view(-1, 1)\n",
        "\n",
        "# Define the neural network model\n",
        "class HousePriceModel(nn.Module):\n",
        "    def __init__(self, input_size):\n",
        "        super(HousePriceModel, self).__init__()\n",
        "        self.fc1 = nn.Linear(input_size, 64)  # Input to hidden layer 1\n",
        "        self.fc2 = nn.Linear(64, 32)          # Hidden layer 1 to hidden layer 2\n",
        "        self.fc3 = nn.Linear(32, 1)           # Hidden layer 2 to output layer\n",
        "\n",
        "    def forward(self, x):\n",
        "        x = torch.relu(self.fc1(x))  # ReLU activation after layer 1\n",
        "        x = torch.relu(self.fc2(x))  # ReLU activation after layer 2\n",
        "        x = self.fc3(x)              # No activation for the output\n",
        "        return x\n",
        "\n",
        "# Instantiate the model, loss function, and optimizer\n",
        "model = HousePriceModel(input_size=X_train_tensor.shape[1])\n",
        "criterion = nn.MSELoss()  # Mean Squared Error Loss\n",
        "optimizer = optim.Adam(model.parameters(), lr=0.001)\n",
        "\n",
        "# Training the model\n",
        "num_epochs = 100\n",
        "train_losses = []\n",
        "\n",
        "for epoch in range(num_epochs):\n",
        "    model.train()\n",
        "    optimizer.zero_grad()\n",
        "\n",
        "    # Forward pass\n",
        "    predictions = model(X_train_tensor)\n",
        "    loss = criterion(predictions, y_train_tensor)\n",
        "\n",
        "    # Backward pass and optimization\n",
        "    loss.backward()\n",
        "    optimizer.step()\n",
        "\n",
        "    train_losses.append(loss.item())\n",
        "\n",
        "    if (epoch+1) % 10 == 0:\n",
        "        print(f'Epoch [{epoch+1}/{num_epochs}], Loss: {loss.item():.4f}')\n",
        "\n",
        "# Plotting the training loss\n",
        "plt.plot(train_losses)\n",
        "plt.title(\"Training Loss over Epochs\")\n",
        "plt.show()\n",
        "\n",
        "# Function to get user input for prediction\n",
        "def get_user_input():\n",
        "    try:\n",
        "        overall_qual = float(input(\"Enter Overall Quality (1-10): \"))\n",
        "        gr_liv_area = float(input(\"Enter Ground Living Area (in square feet): \"))\n",
        "        garage_cars = float(input(\"Enter number of cars the garage can hold: \"))\n",
        "        garage_area = float(input(\"Enter Garage Area (in square feet): \"))\n",
        "        total_bsmt_sf = float(input(\"Enter Total Basement Area (in square feet): \"))\n",
        "        bsmt_unf_sf = float(input(\"Enter Unfinished Basement Area (in square feet): \"))\n",
        "        bedroom = float(input(\"Enter Number of Bedrooms Above Ground: \"))\n",
        "        full_bath = float(input(\"Enter Number of Full Bathrooms: \"))\n",
        "        first_flr_sf = float(input(\"Enter 1st Floor Area (in square feet): \"))\n",
        "\n",
        "        return [[overall_qual, gr_liv_area, garage_cars, garage_area, total_bsmt_sf, bsmt_unf_sf, bedroom, full_bath, first_flr_sf]]\n",
        "    except ValueError:\n",
        "        print(\"Error: Please enter valid numeric values.\")\n",
        "        return None\n",
        "\n",
        "# Get and process user data\n",
        "user_data = get_user_input()\n",
        "if user_data:\n",
        "    try:\n",
        "        user_data_scaled = scaler.transform(user_data)\n",
        "        user_data_tensor = torch.tensor(user_data_scaled, dtype=torch.float32)\n",
        "\n",
        "        # Make prediction\n",
        "        model.eval()\n",
        "        with torch.no_grad():\n",
        "            user_prediction = model(user_data_tensor)\n",
        "        print(f\"The predicted house price is: ${user_prediction.item():.2f}\")\n",
        "    except Exception as e:\n",
        "        print(f\"An error occurred during prediction: {e}\")\n",
        "else:\n",
        "    print(\"Prediction skipped due to invalid input.\")\n"
      ]
    },
    {
      "cell_type": "code",
      "execution_count": null,
      "metadata": {
        "id": "eOytCyPWmgME"
      },
      "outputs": [],
      "source": []
    },
    {
      "cell_type": "code",
      "execution_count": null,
      "metadata": {
        "id": "LZq5AHM3YZ6p"
      },
      "outputs": [],
      "source": []
    }
  ],
  "metadata": {
    "colab": {
      "provenance": [],
      "mount_file_id": "1L5ZrsYQ9GICwUopce85M8gZetQi-1OTT",
      "authorship_tag": "ABX9TyMX8SSv/NmOC3iR+iJfxoiu",
      "include_colab_link": true
    },
    "kernelspec": {
      "display_name": "Python 3",
      "name": "python3"
    },
    "language_info": {
      "name": "python"
    }
  },
  "nbformat": 4,
  "nbformat_minor": 0
}